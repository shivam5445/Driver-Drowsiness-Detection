{
 "cells": [
  {
   "cell_type": "code",
   "execution_count": 3,
   "id": "4399b779",
   "metadata": {},
   "outputs": [],
   "source": [
    "import os\n",
    "collection=\"C:\\\\Users\\\\shivam\\\\OneDrive\\\\Desktop\\\\Driver-Drowsiness-Detection-master\\\\Driver-Drowsiness-Detection-master\\\\train\\\\Closed\\\\\"\n",
    "\n",
    "collection1=\"C:\\\\Users\\\\shivam\\\\OneDrive\\\\Desktop\\\\Driver-Drowsiness-Detection-master\\\\Driver-Drowsiness-Detection-master\\\\train\\\\Open\\\\\"\n",
    "\n",
    "for file in os.listdir(collection):\n",
    "    os.rename(collection+file,f'{collection}closed.{file}')\n",
    "\n",
    "for file in os.listdir(collection1):\n",
    "    os.rename(collection1+file,f'{collection1}open.{file}')"
   ]
  },
  {
   "cell_type": "code",
   "execution_count": null,
   "id": "54b347d8",
   "metadata": {},
   "outputs": [],
   "source": []
  },
  {
   "cell_type": "code",
   "execution_count": 4,
   "id": "639a71e8",
   "metadata": {},
   "outputs": [
    {
     "name": "stderr",
     "output_type": "stream",
     "text": [
      "100%|██████████████████████████████████████████████████████████████████████████████████| 29/29 [04:11<00:00,  8.68s/it]\n",
      "100%|████████████████████████████████████████████████████████████████████████████████████| 7/7 [00:26<00:00,  3.75s/it]\n"
     ]
    },
    {
     "name": "stdout",
     "output_type": "stream",
     "text": [
      "[Epoch: 1 / 50],  [Train loss: 2.4478],  [Test loss: 0.5407],  [Acc: 52.50]\n"
     ]
    },
    {
     "name": "stderr",
     "output_type": "stream",
     "text": [
      "100%|██████████████████████████████████████████████████████████████████████████████████| 29/29 [04:22<00:00,  9.06s/it]\n",
      "100%|████████████████████████████████████████████████████████████████████████████████████| 7/7 [00:24<00:00,  3.44s/it]\n"
     ]
    },
    {
     "name": "stdout",
     "output_type": "stream",
     "text": [
      "[Epoch: 2 / 50],  [Train loss: 0.4532],  [Test loss: 0.3810],  [Acc: 67.50]\n"
     ]
    },
    {
     "name": "stderr",
     "output_type": "stream",
     "text": [
      "100%|██████████████████████████████████████████████████████████████████████████████████| 29/29 [03:41<00:00,  7.65s/it]\n",
      "100%|████████████████████████████████████████████████████████████████████████████████████| 7/7 [00:23<00:00,  3.30s/it]\n"
     ]
    },
    {
     "name": "stdout",
     "output_type": "stream",
     "text": [
      "[Epoch: 3 / 50],  [Train loss: 0.3269],  [Test loss: 0.2908],  [Acc: 92.50]\n"
     ]
    },
    {
     "name": "stderr",
     "output_type": "stream",
     "text": [
      "100%|██████████████████████████████████████████████████████████████████████████████████| 29/29 [03:47<00:00,  7.84s/it]\n",
      "100%|████████████████████████████████████████████████████████████████████████████████████| 7/7 [00:23<00:00,  3.33s/it]\n"
     ]
    },
    {
     "name": "stdout",
     "output_type": "stream",
     "text": [
      "[Epoch: 4 / 50],  [Train loss: 0.2888],  [Test loss: 0.2731],  [Acc: 90.00]\n"
     ]
    },
    {
     "name": "stderr",
     "output_type": "stream",
     "text": [
      "100%|██████████████████████████████████████████████████████████████████████████████████| 29/29 [03:44<00:00,  7.72s/it]\n",
      "100%|████████████████████████████████████████████████████████████████████████████████████| 7/7 [00:25<00:00,  3.63s/it]\n"
     ]
    },
    {
     "name": "stdout",
     "output_type": "stream",
     "text": [
      "[Epoch: 5 / 50],  [Train loss: 0.2852],  [Test loss: 0.2747],  [Acc: 90.00]\n"
     ]
    },
    {
     "name": "stderr",
     "output_type": "stream",
     "text": [
      "100%|██████████████████████████████████████████████████████████████████████████████████| 29/29 [04:01<00:00,  8.34s/it]\n",
      "100%|████████████████████████████████████████████████████████████████████████████████████| 7/7 [00:25<00:00,  3.60s/it]\n"
     ]
    },
    {
     "name": "stdout",
     "output_type": "stream",
     "text": [
      "[Epoch: 6 / 50],  [Train loss: 0.2460],  [Test loss: 0.1848],  [Acc: 87.50]\n"
     ]
    },
    {
     "name": "stderr",
     "output_type": "stream",
     "text": [
      "100%|██████████████████████████████████████████████████████████████████████████████████| 29/29 [03:55<00:00,  8.11s/it]\n",
      "100%|████████████████████████████████████████████████████████████████████████████████████| 7/7 [00:23<00:00,  3.33s/it]\n"
     ]
    },
    {
     "name": "stdout",
     "output_type": "stream",
     "text": [
      "[Epoch: 7 / 50],  [Train loss: 0.2170],  [Test loss: 0.2156],  [Acc: 95.00]\n"
     ]
    },
    {
     "name": "stderr",
     "output_type": "stream",
     "text": [
      "100%|██████████████████████████████████████████████████████████████████████████████████| 29/29 [03:51<00:00,  7.99s/it]\n",
      "100%|████████████████████████████████████████████████████████████████████████████████████| 7/7 [00:23<00:00,  3.37s/it]\n"
     ]
    },
    {
     "name": "stdout",
     "output_type": "stream",
     "text": [
      "[Epoch: 8 / 50],  [Train loss: 0.2662],  [Test loss: 0.1962],  [Acc: 92.50]\n"
     ]
    },
    {
     "name": "stderr",
     "output_type": "stream",
     "text": [
      "100%|██████████████████████████████████████████████████████████████████████████████████| 29/29 [03:54<00:00,  8.09s/it]\n",
      "100%|████████████████████████████████████████████████████████████████████████████████████| 7/7 [00:22<00:00,  3.23s/it]\n"
     ]
    },
    {
     "name": "stdout",
     "output_type": "stream",
     "text": [
      "[Epoch: 9 / 50],  [Train loss: 0.2388],  [Test loss: 0.2228],  [Acc: 92.50]\n"
     ]
    },
    {
     "name": "stderr",
     "output_type": "stream",
     "text": [
      "100%|██████████████████████████████████████████████████████████████████████████████████| 29/29 [03:58<00:00,  8.23s/it]\n",
      "100%|████████████████████████████████████████████████████████████████████████████████████| 7/7 [00:24<00:00,  3.46s/it]\n"
     ]
    },
    {
     "name": "stdout",
     "output_type": "stream",
     "text": [
      "[Epoch: 10 / 50],  [Train loss: 0.2356],  [Test loss: 0.2064],  [Acc: 92.50]\n"
     ]
    },
    {
     "name": "stderr",
     "output_type": "stream",
     "text": [
      "100%|██████████████████████████████████████████████████████████████████████████████████| 29/29 [03:40<00:00,  7.60s/it]\n",
      "100%|████████████████████████████████████████████████████████████████████████████████████| 7/7 [00:23<00:00,  3.39s/it]\n"
     ]
    },
    {
     "name": "stdout",
     "output_type": "stream",
     "text": [
      "[Epoch: 11 / 50],  [Train loss: 0.1942],  [Test loss: 0.1658],  [Acc: 95.00]\n"
     ]
    },
    {
     "name": "stderr",
     "output_type": "stream",
     "text": [
      "100%|██████████████████████████████████████████████████████████████████████████████████| 29/29 [03:44<00:00,  7.76s/it]\n",
      "100%|████████████████████████████████████████████████████████████████████████████████████| 7/7 [00:23<00:00,  3.29s/it]\n"
     ]
    },
    {
     "name": "stdout",
     "output_type": "stream",
     "text": [
      "[Epoch: 12 / 50],  [Train loss: 0.1931],  [Test loss: 0.1236],  [Acc: 100.00]\n"
     ]
    },
    {
     "name": "stderr",
     "output_type": "stream",
     "text": [
      "100%|██████████████████████████████████████████████████████████████████████████████████| 29/29 [03:50<00:00,  7.95s/it]\n",
      "100%|████████████████████████████████████████████████████████████████████████████████████| 7/7 [00:23<00:00,  3.36s/it]\n"
     ]
    },
    {
     "name": "stdout",
     "output_type": "stream",
     "text": [
      "[Epoch: 13 / 50],  [Train loss: 0.1892],  [Test loss: 0.1494],  [Acc: 97.50]\n"
     ]
    },
    {
     "name": "stderr",
     "output_type": "stream",
     "text": [
      "100%|██████████████████████████████████████████████████████████████████████████████████| 29/29 [03:51<00:00,  7.99s/it]\n",
      "100%|████████████████████████████████████████████████████████████████████████████████████| 7/7 [00:23<00:00,  3.40s/it]\n"
     ]
    },
    {
     "name": "stdout",
     "output_type": "stream",
     "text": [
      "[Epoch: 14 / 50],  [Train loss: 0.1832],  [Test loss: 0.1878],  [Acc: 97.50]\n"
     ]
    },
    {
     "name": "stderr",
     "output_type": "stream",
     "text": [
      "100%|██████████████████████████████████████████████████████████████████████████████████| 29/29 [03:42<00:00,  7.66s/it]\n",
      "100%|████████████████████████████████████████████████████████████████████████████████████| 7/7 [00:23<00:00,  3.42s/it]\n"
     ]
    },
    {
     "name": "stdout",
     "output_type": "stream",
     "text": [
      "[Epoch: 15 / 50],  [Train loss: 0.2130],  [Test loss: 0.1707],  [Acc: 87.50]\n"
     ]
    },
    {
     "name": "stderr",
     "output_type": "stream",
     "text": [
      "100%|██████████████████████████████████████████████████████████████████████████████████| 29/29 [03:41<00:00,  7.63s/it]\n",
      "100%|████████████████████████████████████████████████████████████████████████████████████| 7/7 [00:21<00:00,  3.13s/it]\n"
     ]
    },
    {
     "name": "stdout",
     "output_type": "stream",
     "text": [
      "[Epoch: 16 / 50],  [Train loss: 0.1718],  [Test loss: 0.1412],  [Acc: 92.50]\n"
     ]
    },
    {
     "name": "stderr",
     "output_type": "stream",
     "text": [
      "100%|██████████████████████████████████████████████████████████████████████████████████| 29/29 [03:39<00:00,  7.58s/it]\n",
      "100%|████████████████████████████████████████████████████████████████████████████████████| 7/7 [00:24<00:00,  3.46s/it]\n"
     ]
    },
    {
     "name": "stdout",
     "output_type": "stream",
     "text": [
      "[Epoch: 17 / 50],  [Train loss: 0.1739],  [Test loss: 0.1289],  [Acc: 92.50]\n"
     ]
    },
    {
     "name": "stderr",
     "output_type": "stream",
     "text": [
      "100%|██████████████████████████████████████████████████████████████████████████████████| 29/29 [03:40<00:00,  7.61s/it]\n",
      "100%|████████████████████████████████████████████████████████████████████████████████████| 7/7 [00:22<00:00,  3.25s/it]\n"
     ]
    },
    {
     "name": "stdout",
     "output_type": "stream",
     "text": [
      "[Epoch: 18 / 50],  [Train loss: 0.1724],  [Test loss: 0.1435],  [Acc: 92.50]\n"
     ]
    },
    {
     "name": "stderr",
     "output_type": "stream",
     "text": [
      "100%|██████████████████████████████████████████████████████████████████████████████████| 29/29 [03:30<00:00,  7.27s/it]\n",
      "100%|████████████████████████████████████████████████████████████████████████████████████| 7/7 [00:21<00:00,  3.14s/it]\n"
     ]
    },
    {
     "name": "stdout",
     "output_type": "stream",
     "text": [
      "[Epoch: 19 / 50],  [Train loss: 0.2013],  [Test loss: 0.1277],  [Acc: 100.00]\n"
     ]
    },
    {
     "name": "stderr",
     "output_type": "stream",
     "text": [
      "100%|██████████████████████████████████████████████████████████████████████████████████| 29/29 [03:33<00:00,  7.37s/it]\n",
      "100%|████████████████████████████████████████████████████████████████████████████████████| 7/7 [00:22<00:00,  3.27s/it]\n"
     ]
    },
    {
     "name": "stdout",
     "output_type": "stream",
     "text": [
      "[Epoch: 20 / 50],  [Train loss: 0.1678],  [Test loss: 0.1495],  [Acc: 90.00]\n"
     ]
    },
    {
     "name": "stderr",
     "output_type": "stream",
     "text": [
      "100%|██████████████████████████████████████████████████████████████████████████████████| 29/29 [03:32<00:00,  7.33s/it]\n",
      "100%|████████████████████████████████████████████████████████████████████████████████████| 7/7 [00:22<00:00,  3.17s/it]\n"
     ]
    },
    {
     "name": "stdout",
     "output_type": "stream",
     "text": [
      "[Epoch: 21 / 50],  [Train loss: 0.1563],  [Test loss: 0.1237],  [Acc: 100.00]\n"
     ]
    },
    {
     "name": "stderr",
     "output_type": "stream",
     "text": [
      "100%|██████████████████████████████████████████████████████████████████████████████████| 29/29 [03:29<00:00,  7.23s/it]\n",
      "100%|████████████████████████████████████████████████████████████████████████████████████| 7/7 [00:26<00:00,  3.74s/it]\n"
     ]
    },
    {
     "name": "stdout",
     "output_type": "stream",
     "text": [
      "[Epoch: 22 / 50],  [Train loss: 0.1794],  [Test loss: 0.1196],  [Acc: 95.00]\n"
     ]
    },
    {
     "name": "stderr",
     "output_type": "stream",
     "text": [
      "100%|██████████████████████████████████████████████████████████████████████████████████| 29/29 [03:34<00:00,  7.40s/it]\n",
      "100%|████████████████████████████████████████████████████████████████████████████████████| 7/7 [00:22<00:00,  3.24s/it]\n"
     ]
    },
    {
     "name": "stdout",
     "output_type": "stream",
     "text": [
      "[Epoch: 23 / 50],  [Train loss: 0.1587],  [Test loss: 0.1141],  [Acc: 92.50]\n"
     ]
    },
    {
     "name": "stderr",
     "output_type": "stream",
     "text": [
      "100%|██████████████████████████████████████████████████████████████████████████████████| 29/29 [03:38<00:00,  7.53s/it]\n",
      "100%|████████████████████████████████████████████████████████████████████████████████████| 7/7 [00:22<00:00,  3.22s/it]\n"
     ]
    },
    {
     "name": "stdout",
     "output_type": "stream",
     "text": [
      "[Epoch: 24 / 50],  [Train loss: 0.1917],  [Test loss: 0.1311],  [Acc: 80.00]\n"
     ]
    },
    {
     "name": "stderr",
     "output_type": "stream",
     "text": [
      "100%|██████████████████████████████████████████████████████████████████████████████████| 29/29 [03:40<00:00,  7.59s/it]\n",
      "100%|████████████████████████████████████████████████████████████████████████████████████| 7/7 [00:22<00:00,  3.19s/it]\n"
     ]
    },
    {
     "name": "stdout",
     "output_type": "stream",
     "text": [
      "[Epoch: 25 / 50],  [Train loss: 0.1697],  [Test loss: 0.1239],  [Acc: 97.50]\n"
     ]
    },
    {
     "name": "stderr",
     "output_type": "stream",
     "text": [
      "100%|██████████████████████████████████████████████████████████████████████████████████| 29/29 [03:32<00:00,  7.34s/it]\n",
      "100%|████████████████████████████████████████████████████████████████████████████████████| 7/7 [00:23<00:00,  3.39s/it]\n"
     ]
    },
    {
     "name": "stdout",
     "output_type": "stream",
     "text": [
      "[Epoch: 26 / 50],  [Train loss: 0.1624],  [Test loss: 0.1048],  [Acc: 90.00]\n"
     ]
    },
    {
     "name": "stderr",
     "output_type": "stream",
     "text": [
      "100%|██████████████████████████████████████████████████████████████████████████████████| 29/29 [03:42<00:00,  7.67s/it]\n",
      "100%|████████████████████████████████████████████████████████████████████████████████████| 7/7 [00:21<00:00,  3.12s/it]\n"
     ]
    },
    {
     "name": "stdout",
     "output_type": "stream",
     "text": [
      "[Epoch: 27 / 50],  [Train loss: 0.1260],  [Test loss: 0.0880],  [Acc: 97.50]\n"
     ]
    },
    {
     "name": "stderr",
     "output_type": "stream",
     "text": [
      "100%|██████████████████████████████████████████████████████████████████████████████████| 29/29 [03:40<00:00,  7.61s/it]\n",
      "100%|████████████████████████████████████████████████████████████████████████████████████| 7/7 [00:22<00:00,  3.20s/it]\n"
     ]
    },
    {
     "name": "stdout",
     "output_type": "stream",
     "text": [
      "[Epoch: 28 / 50],  [Train loss: 0.1798],  [Test loss: 0.1880],  [Acc: 92.50]\n"
     ]
    },
    {
     "name": "stderr",
     "output_type": "stream",
     "text": [
      "100%|██████████████████████████████████████████████████████████████████████████████████| 29/29 [03:30<00:00,  7.24s/it]\n",
      "100%|████████████████████████████████████████████████████████████████████████████████████| 7/7 [00:22<00:00,  3.19s/it]\n"
     ]
    },
    {
     "name": "stdout",
     "output_type": "stream",
     "text": [
      "[Epoch: 29 / 50],  [Train loss: 0.1523],  [Test loss: 0.1137],  [Acc: 95.00]\n"
     ]
    },
    {
     "name": "stderr",
     "output_type": "stream",
     "text": [
      "100%|██████████████████████████████████████████████████████████████████████████████████| 29/29 [03:33<00:00,  7.37s/it]\n",
      "100%|████████████████████████████████████████████████████████████████████████████████████| 7/7 [00:21<00:00,  3.01s/it]\n"
     ]
    },
    {
     "name": "stdout",
     "output_type": "stream",
     "text": [
      "[Epoch: 30 / 50],  [Train loss: 0.2405],  [Test loss: 0.1284],  [Acc: 97.50]\n"
     ]
    },
    {
     "name": "stderr",
     "output_type": "stream",
     "text": [
      "100%|██████████████████████████████████████████████████████████████████████████████████| 29/29 [03:32<00:00,  7.33s/it]\n",
      "100%|████████████████████████████████████████████████████████████████████████████████████| 7/7 [00:23<00:00,  3.34s/it]\n"
     ]
    },
    {
     "name": "stdout",
     "output_type": "stream",
     "text": [
      "[Epoch: 31 / 50],  [Train loss: 0.2399],  [Test loss: 0.1436],  [Acc: 95.00]\n"
     ]
    },
    {
     "name": "stderr",
     "output_type": "stream",
     "text": [
      "100%|██████████████████████████████████████████████████████████████████████████████████| 29/29 [03:27<00:00,  7.14s/it]\n",
      "100%|████████████████████████████████████████████████████████████████████████████████████| 7/7 [00:22<00:00,  3.22s/it]\n"
     ]
    },
    {
     "name": "stdout",
     "output_type": "stream",
     "text": [
      "[Epoch: 32 / 50],  [Train loss: 0.1995],  [Test loss: 0.1057],  [Acc: 95.00]\n"
     ]
    },
    {
     "name": "stderr",
     "output_type": "stream",
     "text": [
      "100%|██████████████████████████████████████████████████████████████████████████████████| 29/29 [03:29<00:00,  7.24s/it]\n",
      "100%|████████████████████████████████████████████████████████████████████████████████████| 7/7 [00:22<00:00,  3.25s/it]\n"
     ]
    },
    {
     "name": "stdout",
     "output_type": "stream",
     "text": [
      "[Epoch: 33 / 50],  [Train loss: 0.1814],  [Test loss: 0.1026],  [Acc: 97.50]\n"
     ]
    },
    {
     "name": "stderr",
     "output_type": "stream",
     "text": [
      "100%|██████████████████████████████████████████████████████████████████████████████████| 29/29 [03:32<00:00,  7.33s/it]\n",
      "100%|████████████████████████████████████████████████████████████████████████████████████| 7/7 [00:22<00:00,  3.23s/it]\n"
     ]
    },
    {
     "name": "stdout",
     "output_type": "stream",
     "text": [
      "[Epoch: 34 / 50],  [Train loss: 0.1789],  [Test loss: 0.1386],  [Acc: 97.50]\n"
     ]
    },
    {
     "name": "stderr",
     "output_type": "stream",
     "text": [
      "100%|██████████████████████████████████████████████████████████████████████████████████| 29/29 [03:34<00:00,  7.40s/it]\n",
      "100%|████████████████████████████████████████████████████████████████████████████████████| 7/7 [00:23<00:00,  3.40s/it]\n"
     ]
    },
    {
     "name": "stdout",
     "output_type": "stream",
     "text": [
      "[Epoch: 35 / 50],  [Train loss: 0.1810],  [Test loss: 0.1328],  [Acc: 90.00]\n"
     ]
    },
    {
     "name": "stderr",
     "output_type": "stream",
     "text": [
      "100%|██████████████████████████████████████████████████████████████████████████████████| 29/29 [03:40<00:00,  7.61s/it]\n",
      "100%|████████████████████████████████████████████████████████████████████████████████████| 7/7 [00:23<00:00,  3.36s/it]\n"
     ]
    },
    {
     "name": "stdout",
     "output_type": "stream",
     "text": [
      "[Epoch: 36 / 50],  [Train loss: 0.1509],  [Test loss: 0.1659],  [Acc: 97.50]\n"
     ]
    },
    {
     "name": "stderr",
     "output_type": "stream",
     "text": [
      "100%|██████████████████████████████████████████████████████████████████████████████████| 29/29 [03:40<00:00,  7.61s/it]\n",
      "100%|████████████████████████████████████████████████████████████████████████████████████| 7/7 [00:22<00:00,  3.20s/it]\n"
     ]
    },
    {
     "name": "stdout",
     "output_type": "stream",
     "text": [
      "[Epoch: 37 / 50],  [Train loss: 0.1525],  [Test loss: 0.1275],  [Acc: 90.00]\n"
     ]
    },
    {
     "name": "stderr",
     "output_type": "stream",
     "text": [
      "100%|██████████████████████████████████████████████████████████████████████████████████| 29/29 [03:35<00:00,  7.44s/it]\n",
      "100%|████████████████████████████████████████████████████████████████████████████████████| 7/7 [00:22<00:00,  3.22s/it]\n"
     ]
    },
    {
     "name": "stdout",
     "output_type": "stream",
     "text": [
      "[Epoch: 38 / 50],  [Train loss: 0.2222],  [Test loss: 0.1601],  [Acc: 95.00]\n"
     ]
    },
    {
     "name": "stderr",
     "output_type": "stream",
     "text": [
      "100%|██████████████████████████████████████████████████████████████████████████████████| 29/29 [03:36<00:00,  7.47s/it]\n",
      "100%|████████████████████████████████████████████████████████████████████████████████████| 7/7 [00:22<00:00,  3.17s/it]\n"
     ]
    },
    {
     "name": "stdout",
     "output_type": "stream",
     "text": [
      "[Epoch: 39 / 50],  [Train loss: 0.1535],  [Test loss: 0.1499],  [Acc: 97.50]\n"
     ]
    },
    {
     "name": "stderr",
     "output_type": "stream",
     "text": [
      "100%|██████████████████████████████████████████████████████████████████████████████████| 29/29 [03:32<00:00,  7.32s/it]\n",
      "100%|████████████████████████████████████████████████████████████████████████████████████| 7/7 [00:22<00:00,  3.20s/it]\n"
     ]
    },
    {
     "name": "stdout",
     "output_type": "stream",
     "text": [
      "[Epoch: 40 / 50],  [Train loss: 0.1391],  [Test loss: 0.1274],  [Acc: 92.50]\n"
     ]
    },
    {
     "name": "stderr",
     "output_type": "stream",
     "text": [
      "100%|██████████████████████████████████████████████████████████████████████████████████| 29/29 [03:34<00:00,  7.39s/it]\n",
      "100%|████████████████████████████████████████████████████████████████████████████████████| 7/7 [00:21<00:00,  3.12s/it]\n"
     ]
    },
    {
     "name": "stdout",
     "output_type": "stream",
     "text": [
      "[Epoch: 41 / 50],  [Train loss: 0.1552],  [Test loss: 0.1463],  [Acc: 97.50]\n"
     ]
    },
    {
     "name": "stderr",
     "output_type": "stream",
     "text": [
      "100%|██████████████████████████████████████████████████████████████████████████████████| 29/29 [03:41<00:00,  7.65s/it]\n",
      "100%|████████████████████████████████████████████████████████████████████████████████████| 7/7 [00:22<00:00,  3.21s/it]\n"
     ]
    },
    {
     "name": "stdout",
     "output_type": "stream",
     "text": [
      "[Epoch: 42 / 50],  [Train loss: 0.2008],  [Test loss: 0.1310],  [Acc: 100.00]\n"
     ]
    },
    {
     "name": "stderr",
     "output_type": "stream",
     "text": [
      "100%|██████████████████████████████████████████████████████████████████████████████████| 29/29 [03:36<00:00,  7.48s/it]\n",
      "100%|████████████████████████████████████████████████████████████████████████████████████| 7/7 [00:22<00:00,  3.22s/it]\n"
     ]
    },
    {
     "name": "stdout",
     "output_type": "stream",
     "text": [
      "[Epoch: 43 / 50],  [Train loss: 0.1730],  [Test loss: 0.1005],  [Acc: 92.50]\n"
     ]
    },
    {
     "name": "stderr",
     "output_type": "stream",
     "text": [
      "100%|██████████████████████████████████████████████████████████████████████████████████| 29/29 [04:06<00:00,  8.48s/it]\n",
      "100%|████████████████████████████████████████████████████████████████████████████████████| 7/7 [00:23<00:00,  3.31s/it]\n"
     ]
    },
    {
     "name": "stdout",
     "output_type": "stream",
     "text": [
      "[Epoch: 44 / 50],  [Train loss: 0.1773],  [Test loss: 0.2575],  [Acc: 97.50]\n"
     ]
    },
    {
     "name": "stderr",
     "output_type": "stream",
     "text": [
      "100%|██████████████████████████████████████████████████████████████████████████████████| 29/29 [03:48<00:00,  7.89s/it]\n",
      "100%|████████████████████████████████████████████████████████████████████████████████████| 7/7 [00:25<00:00,  3.59s/it]\n"
     ]
    },
    {
     "name": "stdout",
     "output_type": "stream",
     "text": [
      "[Epoch: 45 / 50],  [Train loss: 0.2014],  [Test loss: 0.1253],  [Acc: 87.50]\n"
     ]
    },
    {
     "name": "stderr",
     "output_type": "stream",
     "text": [
      "100%|██████████████████████████████████████████████████████████████████████████████████| 29/29 [03:44<00:00,  7.75s/it]\n",
      "100%|████████████████████████████████████████████████████████████████████████████████████| 7/7 [00:22<00:00,  3.21s/it]\n"
     ]
    },
    {
     "name": "stdout",
     "output_type": "stream",
     "text": [
      "[Epoch: 46 / 50],  [Train loss: 0.1492],  [Test loss: 0.1347],  [Acc: 95.00]\n"
     ]
    },
    {
     "name": "stderr",
     "output_type": "stream",
     "text": [
      "100%|██████████████████████████████████████████████████████████████████████████████████| 29/29 [03:40<00:00,  7.61s/it]\n",
      "100%|████████████████████████████████████████████████████████████████████████████████████| 7/7 [00:29<00:00,  4.22s/it]\n"
     ]
    },
    {
     "name": "stdout",
     "output_type": "stream",
     "text": [
      "[Epoch: 47 / 50],  [Train loss: 0.2076],  [Test loss: 0.1125],  [Acc: 95.00]\n"
     ]
    },
    {
     "name": "stderr",
     "output_type": "stream",
     "text": [
      "100%|██████████████████████████████████████████████████████████████████████████████████| 29/29 [03:57<00:00,  8.17s/it]\n",
      "100%|████████████████████████████████████████████████████████████████████████████████████| 7/7 [00:25<00:00,  3.61s/it]\n"
     ]
    },
    {
     "name": "stdout",
     "output_type": "stream",
     "text": [
      "[Epoch: 48 / 50],  [Train loss: 0.1996],  [Test loss: 0.1909],  [Acc: 90.00]\n"
     ]
    },
    {
     "name": "stderr",
     "output_type": "stream",
     "text": [
      "100%|██████████████████████████████████████████████████████████████████████████████████| 29/29 [03:49<00:00,  7.93s/it]\n",
      "100%|████████████████████████████████████████████████████████████████████████████████████| 7/7 [00:25<00:00,  3.60s/it]\n"
     ]
    },
    {
     "name": "stdout",
     "output_type": "stream",
     "text": [
      "[Epoch: 49 / 50],  [Train loss: 0.2390],  [Test loss: 0.1899],  [Acc: 87.50]\n"
     ]
    },
    {
     "name": "stderr",
     "output_type": "stream",
     "text": [
      "100%|██████████████████████████████████████████████████████████████████████████████████| 29/29 [03:59<00:00,  8.26s/it]\n",
      "100%|████████████████████████████████████████████████████████████████████████████████████| 7/7 [00:23<00:00,  3.39s/it]"
     ]
    },
    {
     "name": "stdout",
     "output_type": "stream",
     "text": [
      "[Epoch: 50 / 50],  [Train loss: 0.2322],  [Test loss: 0.1646],  [Acc: 92.50]\n"
     ]
    },
    {
     "name": "stderr",
     "output_type": "stream",
     "text": [
      "\n"
     ]
    }
   ],
   "source": [
    "import os\n",
    "import numpy as np\n",
    "from PIL import Image\n",
    "from torch.utils.data import Dataset\n",
    "import torch\n",
    "import torch.nn as nn\n",
    "from torchvision import transforms\n",
    "from torch.utils.data import DataLoader\n",
    "import glob\n",
    "from sklearn.model_selection import train_test_split\n",
    "\n",
    "# GETTING ALL IMAGE FILES PATH BASED ON OS\n",
    "images=glob.glob(os.path.join('C:\\\\Users\\\\shivam\\\\OneDrive\\\\Desktop\\\\Driver-Drowsiness-Detection-master\\\\Driver-Drowsiness-Detection-master\\\\train\\\\dataset\\\\','*.jpg'))\n",
    "\n",
    "# SPLITTING DATASET INTO TRAIN AND TEST SET\n",
    "train_list, test_list=train_test_split(images,test_size=.2,shuffle=True)\n",
    "\n",
    "# DATA AUGMENTATION\n",
    "train_transform = transforms.Compose([\n",
    "        transforms.RandomHorizontalFlip(p=0.25),\n",
    "        transforms.RandomRotation(60),\n",
    "        transforms.Resize(145),\n",
    "        transforms.ToTensor(), # Converting Tensor - Processable Data\n",
    "        transforms.Normalize((0, 0, 0),(1, 1, 1))\n",
    "    ])\n",
    "\n",
    "# for validation we only need to normalize the data\n",
    "val_transform = transforms.Compose([ \n",
    "        transforms.ToTensor(),\n",
    "        transforms.Normalize((0, 0, 0),(1, 1, 1))\n",
    "    ])\n",
    "\n",
    "class OpenClosedEyeSet(Dataset):\n",
    "\n",
    "    def __init__(self,images_list,mode='train',transform=None) -> None:\n",
    "    \n",
    "        self.label=None\n",
    "        self.images_list=images_list\n",
    "        self.mode=mode\n",
    "        self.transform=transform\n",
    "    \n",
    "    # DUNDER - OVERRIDE\n",
    "    def __len__(self):\n",
    "    \n",
    "        self.dataset_len=len(self.images_list)\n",
    "        return self.dataset_len\n",
    "\n",
    "    def __getitem__(self, index):\n",
    "\n",
    "        image_name=self.images_list[index]\n",
    "        \n",
    "        image=Image.open(image_name).convert('RGB')\n",
    "\n",
    "        # Resizing image to 100 width , 100 height\n",
    "        image=image.resize((145,145))\n",
    "\n",
    "        # Whole defined transformations apply on image HERE.\n",
    "        transformed_image = self.transform(image)\n",
    "\n",
    "        # Split the labels from file name.\n",
    "        label=image_name.split('\\\\')[-1].split(\".\")[0]\n",
    "\n",
    "        if self.mode=='train' or self.mode=='test':\n",
    "            if label=='open':\n",
    "                self.label=0\n",
    "            elif label=='closed':\n",
    "                self.label=1\n",
    "\n",
    "            return transformed_image,self.label\n",
    "\n",
    "batch_size=40\n",
    "num_epochs=50\n",
    "learning_rate=0.01\n",
    "\n",
    "# create dataset objects\n",
    "\n",
    "# OUTPUT - [sample_size_in_trn_list,width,height,channel(RGB)]\n",
    "train_dataset=OpenClosedEyeSet(train_list,mode='train',transform=train_transform)\n",
    "\n",
    "test_dataset=OpenClosedEyeSet(test_list,mode='test',transform=val_transform)\n",
    "\n",
    "# EXAMPLE - train_dataset = 800 / 64\n",
    "# DATASET - must contain labels and inputs together NOT SEPERATELY\n",
    "train_dataloader=DataLoader(train_dataset,batch_size=batch_size, shuffle=True,drop_last=True)\n",
    "\n",
    "# val_dataset = 200\n",
    "# drop_last - is for making the number of samples in each batch equal.\n",
    "val_dataloader=DataLoader(test_dataset,batch_size=batch_size,shuffle=True,drop_last=True)\n",
    "\n",
    "device = torch.device('cuda:0' if torch.cuda.is_available() else 'cpu')\n",
    "\n",
    "class DrowsinessCNN(nn.Module):\n",
    "    \n",
    "    def __init__(self):\n",
    "        \n",
    "        super().__init__()\n",
    "\n",
    "        self.input=nn.Sequential(\n",
    "            \n",
    "            # ( (W - K + 2P)/S )+1\n",
    "            # W - input volume - 128x128 =>  128\n",
    "            # K - Kernel size - 3x3 => 3\n",
    "            # P - Padding - 0\n",
    "            # S - Stride - Default 1\n",
    "\n",
    "            nn.Conv2d(in_channels=3,out_channels=256,kernel_size=3),\n",
    "            # 143x143x256\n",
    "            nn.ReLU(),\n",
    "            nn.MaxPool2d(kernel_size=2),\n",
    "            # 71x71x256\n",
    "\n",
    "            nn.Conv2d(in_channels=256,out_channels=128,kernel_size=3),\n",
    "            # 69x69x128\n",
    "            nn.ReLU(),\n",
    "            nn.MaxPool2d(kernel_size=2),\n",
    "            # 34x34x128\n",
    "\n",
    "            nn.Conv2d(in_channels=128,out_channels=64,kernel_size=3),\n",
    "            # 32x32x64\n",
    "            nn.ReLU(),\n",
    "            nn.MaxPool2d(kernel_size=2),\n",
    "            # 16x16x64\n",
    "\n",
    "            nn.Conv2d(in_channels=64,out_channels=32,kernel_size=3),\n",
    "            # 14x14x32\n",
    "            nn.ReLU(),\n",
    "            nn.MaxPool2d(kernel_size=2)\n",
    "            # 7x7x32\n",
    "        )\n",
    "\n",
    "        self.dense=nn.Sequential(\n",
    "            nn.Dropout(p=0.5),\n",
    "\n",
    "            nn.Linear(in_features=7*7*32,out_features=64),\n",
    "            nn.ReLU(),\n",
    "            nn.Linear(in_features=64,out_features=1),\n",
    "        )\n",
    "\n",
    "    def forward(self,x):\n",
    "\n",
    "        output=self.input(x)\n",
    "        output=output.view(-1,7*7*32)\n",
    "        output=self.dense(output)\n",
    "\n",
    "        return output\n",
    "\n",
    "model=DrowsinessCNN()\n",
    "model.to(device)\n",
    "\n",
    "criterion=nn.BCEWithLogitsLoss()\n",
    "optimizer=torch.optim.Adam(params=model.parameters(),lr=learning_rate)\n",
    "\n",
    "from tqdm import tqdm\n",
    "\n",
    "train_losses = []\n",
    "val_losses = []\n",
    "accuracy_list = []\n",
    "\n",
    "for epoch in range(num_epochs):\n",
    "    \n",
    "    # perform training on train set\n",
    "    model.train()\n",
    "    running_loss = 0\n",
    "    \n",
    "    for images, labels in tqdm(train_dataloader):\n",
    "        \n",
    "        # load to gpu\n",
    "        images = images.to(device)\n",
    "        labels = labels.to(device)\n",
    "        \n",
    "        labels=labels.unsqueeze(1)\n",
    "        labels=labels.float()\n",
    "\n",
    "        # forward pass\n",
    "        outputs = model(images)\n",
    "\n",
    "        loss = criterion(outputs, labels)\n",
    "        running_loss += loss.item()\n",
    "        \n",
    "        # backprop and update model params\n",
    "        # zero the gradient descent\n",
    "        optimizer.zero_grad()\n",
    "        # back prop\n",
    "        loss.backward()\n",
    "        # after zero processing make optimizer ready\n",
    "        optimizer.step()\n",
    "        \n",
    "    # calculate training loss for the epoch\n",
    "    train_losses.append(running_loss / len(train_dataloader))\n",
    "    \n",
    "    # calculate loss accuracy on validation set\n",
    "    model.eval()\n",
    "    running_loss = 0\n",
    "    \n",
    "    with torch.no_grad():  \n",
    "        for images, labels in tqdm(val_dataloader):\n",
    "            \n",
    "            # load to gpu\n",
    "            images = images.to(device)\n",
    "            labels = labels.to(device)\n",
    "\n",
    "            labels=labels.unsqueeze(1)\n",
    "            labels=labels.float()\n",
    "            \n",
    "            # forward pass\n",
    "            outputs = model(images)\n",
    "            loss = criterion(outputs, labels)\n",
    "            running_loss += loss.item()\n",
    "            \n",
    "            # calculate accuracy for batch\n",
    "            preds = [1 if outputs[i] >= 0.5 else 0 for i in range(len(outputs))]\n",
    "            acc = [1 if preds[i] == labels[i] else 0 for i in range(len(outputs))]\n",
    "    \n",
    "    ### Summing over all correct predictions\n",
    "    acc = (np.sum(acc) / len(preds))*100\n",
    "    \n",
    "    # calculate val loss for epoch\n",
    "    val_losses.append(running_loss / len(val_dataloader))\n",
    "    # calculate accuracy for epoch\n",
    "    accuracy_list.append(acc)\n",
    "\n",
    "    print(\"[Epoch: %d / %d],  [Train loss: %.4f],  [Test loss: %.4f],  [Acc: %.2f]\" \\\n",
    "          %(epoch+1, num_epochs, train_losses[-1], val_losses[-1], acc))\n",
    "\n",
    "# torch.save(model.state_dict(),'./saved_model/new_drowsiness.pth')\n"
   ]
  },
  {
   "cell_type": "code",
   "execution_count": 3,
   "id": "2c8bdedb",
   "metadata": {},
   "outputs": [],
   "source": [
    "import os\n",
    "import numpy as np\n",
    "from PIL import Image\n",
    "from torch.utils.data import Dataset\n",
    "import torch\n",
    "import torch.nn as nn\n",
    "from torchvision import transforms\n",
    "from torch.utils.data import DataLoader\n",
    "import glob\n",
    "from sklearn.model_selection import train_test_split\n",
    "class DrowsinessCNN(nn.Module):\n",
    "    \n",
    "    def __init__(self):\n",
    "        \n",
    "        super().__init__()\n",
    "\n",
    "        self.input=nn.Sequential(\n",
    "            \n",
    "            # ( (W - K + 2P)/S )+1\n",
    "            # W - input volume - 128x128 =>  128\n",
    "            # K - Kernel size - 3x3 => 3\n",
    "            # P - Padding - 0\n",
    "            # S - Stride - Default 1\n",
    "\n",
    "            nn.Conv2d(in_channels=3,out_channels=256,kernel_size=3),\n",
    "            # 143x143x256\n",
    "            nn.ReLU(),\n",
    "            nn.MaxPool2d(kernel_size=2),\n",
    "            # 71x71x256\n",
    "\n",
    "            nn.Conv2d(in_channels=256,out_channels=128,kernel_size=3),\n",
    "            # 69x69x128\n",
    "            nn.ReLU(),\n",
    "            nn.MaxPool2d(kernel_size=2),\n",
    "            # 34x34x128\n",
    "\n",
    "            nn.Conv2d(in_channels=128,out_channels=64,kernel_size=3),\n",
    "            # 32x32x64\n",
    "            nn.ReLU(),\n",
    "            nn.MaxPool2d(kernel_size=2),\n",
    "            # 16x16x64\n",
    "\n",
    "            nn.Conv2d(in_channels=64,out_channels=32,kernel_size=3),\n",
    "            # 14x14x32\n",
    "            nn.ReLU(),\n",
    "            nn.MaxPool2d(kernel_size=2)\n",
    "            # 7x7x32\n",
    "        )\n",
    "\n",
    "        self.dense=nn.Sequential(\n",
    "            nn.Dropout(p=0.5),\n",
    "\n",
    "            nn.Linear(in_features=7*7*32,out_features=64),\n",
    "            nn.ReLU(),\n",
    "            nn.Linear(in_features=64,out_features=1),\n",
    "        )\n",
    "\n",
    "    def forward(self,x):\n",
    "\n",
    "        output=self.input(x)\n",
    "        output=output.view(-1,7*7*32)\n",
    "        output=self.dense(output)\n",
    "\n",
    "        return output\n"
   ]
  },
  {
   "cell_type": "code",
   "execution_count": 1,
   "id": "8c13613d",
   "metadata": {},
   "outputs": [],
   "source": [
    "import os\n",
    "import numpy as np\n",
    "from PIL import Image\n",
    "from torch.utils.data import Dataset\n",
    "import torch\n",
    "import torch.nn as nn\n",
    "from torchvision import transforms\n",
    "from torch.utils.data import DataLoader\n",
    "import glob\n",
    "from sklearn.model_selection import train_test_split\n",
    "import cv2 as cv\n",
    "import dlib\n",
    "#from cnn_model import DrowsinessSimpleCNN  # Import the simplified CNN model\n",
    "class DrowsinessCNN(nn.Module):\n",
    "    \n",
    "    def __init__(self):\n",
    "        \n",
    "        super().__init__()\n",
    "\n",
    "        self.input=nn.Sequential(\n",
    "            \n",
    "            # ( (W - K + 2P)/S )+1\n",
    "            # W - input volume - 128x128 =>  128\n",
    "            # K - Kernel size - 3x3 => 3\n",
    "            # P - Padding - 0\n",
    "            # S - Stride - Default 1\n",
    "\n",
    "            nn.Conv2d(in_channels=3,out_channels=256,kernel_size=3),\n",
    "            # 143x143x256\n",
    "            nn.ReLU(),\n",
    "            nn.MaxPool2d(kernel_size=2),\n",
    "            # 71x71x256\n",
    "\n",
    "            nn.Conv2d(in_channels=256,out_channels=128,kernel_size=3),\n",
    "            # 69x69x128\n",
    "            nn.ReLU(),\n",
    "            nn.MaxPool2d(kernel_size=2),\n",
    "            # 34x34x128\n",
    "\n",
    "            nn.Conv2d(in_channels=128,out_channels=64,kernel_size=3),\n",
    "            # 32x32x64\n",
    "            nn.ReLU(),\n",
    "            nn.MaxPool2d(kernel_size=2),\n",
    "            # 16x16x64\n",
    "\n",
    "            nn.Conv2d(in_channels=64,out_channels=32,kernel_size=3),\n",
    "            # 14x14x32\n",
    "            nn.ReLU(),\n",
    "            nn.MaxPool2d(kernel_size=2)\n",
    "            # 7x7x32\n",
    "        )\n",
    "\n",
    "        self.dense=nn.Sequential(\n",
    "            nn.Dropout(p=0.5),\n",
    "\n",
    "            nn.Linear(in_features=7*7*32,out_features=64),\n",
    "            nn.ReLU(),\n",
    "            nn.Linear(in_features=64,out_features=1),\n",
    "        )\n",
    "\n",
    "    def forward(self,x):\n",
    "\n",
    "        output=self.input(x)\n",
    "        output=output.view(-1,7*7*32)\n",
    "        output=self.dense(output)\n",
    "\n",
    "        return output\n",
    "\n",
    "# Load face detector and landmark predictor\n",
    "detector = dlib.get_frontal_face_detector()\n",
    "predictor = dlib.shape_predictor(\"./shape_predictor_68_face_landmarks.dat\")\n",
    "\n",
    "# Load the simplified CNN model\n",
    "model = DrowsinessCNN()\n",
    "device = torch.device('cuda:0' if torch.cuda.is_available() else 'cpu')\n",
    "model.load_state_dict(torch.load('./saved_model/drowsiness.pth', map_location=device))\n",
    "model.eval()\n",
    "\n",
    "# Input format of the model\n",
    "input_transform = transforms.Compose([\n",
    "    transforms.ToTensor(),\n",
    "    transforms.Normalize((0, 0, 0), (1, 1, 1))\n",
    "])\n",
    "\n",
    "# Function to preprocess input images\n",
    "def preprocess_input(right_eye_input, left_eye_input):\n",
    "    right_eye = cv.resize(right_eye_input, (145, 145))  # Resize input images\n",
    "    left_eye = cv.resize(left_eye_input, (145, 145))\n",
    "    right_eye = input_transform(right_eye)  # Apply transformation\n",
    "    left_eye = input_transform(left_eye)\n",
    "    return right_eye, left_eye\n",
    "\n",
    "# Function to perform model inference\n",
    "def perform_inference(right_eye, left_eye):\n",
    "    with torch.no_grad():\n",
    "        output_right = model(right_eye.unsqueeze(0)).sigmoid().item()  # Forward pass\n",
    "        output_left = model(left_eye.unsqueeze(0)).sigmoid().item()\n",
    "    return output_right, output_left\n",
    "\n",
    "# Function to detect drowsiness\n",
    "def detect_drowsiness(output_right, output_left):\n",
    "    drowsiness_score = (output_right + output_left) / 2  # Average the outputs of both eyes\n",
    "    return drowsiness_score < 0.5  # Return True if drowsiness score is less than 0.5 (awake)\n",
    "\n",
    "# Capture video input from webcam\n",
    "cap = cv.VideoCapture(0)\n",
    "\n",
    "while True:\n",
    "    ret, frame = cap.read()  # Read a frame from the video feed\n",
    "    if not ret:\n",
    "        break\n",
    "    \n",
    "    gray = cv.cvtColor(frame, cv.COLOR_BGR2GRAY)  # Convert frame to grayscale\n",
    "    \n",
    "    faces = detector(gray)  # Detect faces in the grayscale frame\n",
    "    \n",
    "    for face in faces:\n",
    "        face_landmarks = predictor(gray, face)  # Detect facial landmarks\n",
    "        \n",
    "        # Extract eye regions from the face\n",
    "        righteye_x_strt = face_landmarks.part(37).x - 25\n",
    "        righteye_x_end = face_landmarks.part(40).x + 25\n",
    "        righteye_y_strt = face_landmarks.part(38).y - 10\n",
    "        righteye_y_end = face_landmarks.part(41).y + 20\n",
    "\n",
    "        lefteye_x_strt = face_landmarks.part(43).x - 25\n",
    "        lefteye_x_end = face_landmarks.part(46).x + 25\n",
    "        lefteye_y_strt = face_landmarks.part(44).y - 10\n",
    "        lefteye_y_end = face_landmarks.part(47).y + 20\n",
    "        \n",
    "        right_eye_region = frame[righteye_y_strt:righteye_y_end, righteye_x_strt:righteye_x_end]\n",
    "        left_eye_region = frame[lefteye_y_strt:lefteye_y_end, lefteye_x_strt:lefteye_x_end]\n",
    "        \n",
    "        # Preprocess and perform inference on eye regions\n",
    "        right_eye, left_eye = preprocess_input(right_eye_region, left_eye_region)\n",
    "        output_right, output_left = perform_inference(right_eye, left_eye)\n",
    "        \n",
    "        # Detect drowsiness based on inference results\n",
    "        if detect_drowsiness(output_right, output_left):\n",
    "            cv.putText(frame, \"Sleepy\", (20, 40), cv.FONT_HERSHEY_SIMPLEX, 1, (0, 0, 255), 3)\n",
    "        else:\n",
    "            cv.putText(frame, \"Awake\", (20, 40), cv.FONT_HERSHEY_SIMPLEX, 1, (0, 255, 0), 3)\n",
    "    \n",
    "    cv.imshow('Frame', frame)  # Display the frame\n",
    "    if cv.waitKey(1) == ord('q'):  # Exit the loop if 'q' is pressed\n",
    "        break\n",
    "\n",
    "cap.release()  # Release the video capture object\n",
    "cv.destroyAllWindows()  # Close all OpenCV windows\n"
   ]
  }
 ],
 "metadata": {
  "kernelspec": {
   "display_name": "Python 3 (ipykernel)",
   "language": "python",
   "name": "python3"
  },
  "language_info": {
   "codemirror_mode": {
    "name": "ipython",
    "version": 3
   },
   "file_extension": ".py",
   "mimetype": "text/x-python",
   "name": "python",
   "nbconvert_exporter": "python",
   "pygments_lexer": "ipython3",
   "version": "3.11.1"
  }
 },
 "nbformat": 4,
 "nbformat_minor": 5
}
